{
 "cells": [
  {
   "cell_type": "code",
   "execution_count": 7,
   "id": "562de1cb",
   "metadata": {},
   "outputs": [],
   "source": [
    "import numpy as np\n",
    "import matplotlib.pyplot as plt\n",
    "import pandas as pd\n",
    "import random\n",
    "import math\n",
    "from sklearn.datasets import load_iris"
   ]
  },
  {
   "cell_type": "code",
   "execution_count": 93,
   "id": "400c0b71",
   "metadata": {},
   "outputs": [],
   "source": [
    "class KMeansClusterer:\n",
    "    def __init__(self):\n",
    "        pass\n",
    "    \n",
    "    def _euclidean_distance(self, x, y):\n",
    "        return math.sqrt(np.sum((x - y) ** 2))\n",
    "        \n",
    "        \n",
    "    def fit(self, X):\n",
    "        self.X = X;\n",
    "        \n",
    "    def train(self, k, max_iters = 100):\n",
    "        self.k = k;\n",
    "        self.centroids = np.array(self.X[random.sample(range(self.X.shape[0]), self.k)])\n",
    "        self.centers = {cluster_ind : [] for cluster_ind in range(self.k)}\n",
    "        \n",
    "        for iteration in range(max_iters):\n",
    "            self.centers = {cluster_ind : [] for cluster_ind in range(self.k)}\n",
    "            for ind, x in enumerate(self.X):\n",
    "                distances = [self._euclidean_distance(x, centroid) for centroid in self.centroids]\n",
    "                self.centers[np.argmin(distances)].append(x)\n",
    "                \n",
    "            centroids = np.array([np.mean(self.centers[cluster_ind], axis = 0) for cluster_ind in range(self.k)])\n",
    "            if np.all(centroids == self.centroids):\n",
    "                break\n",
    "                \n",
    "            self.centroids = centroids\n",
    "            \n",
    "            \n",
    "            \n",
    "    def plot(self):\n",
    "        \n",
    "        generate_color = lambda : f\"#{''.join(random.sample(list('abcdef0123456789'), 6))}\"\n",
    "        \n",
    "        for cluster_ind in range(self.k):\n",
    "            color = generate_color()\n",
    "            self.centers[cluster_ind] = np.array(self.centers[cluster_ind])\n",
    "            plt.scatter(x = self.centers[cluster_ind][:, 0], y = self.centers[cluster_ind][:, 1], color = color)\n",
    "\n",
    "        color = generate_color()\n",
    "        for centroid in self.centroids:\n",
    "            plt.scatter(x = centroid[0], y = centroid[1], color = color)\n",
    "            \n",
    "        plt.show();\n",
    "        \n",
    "                "
   ]
  },
  {
   "cell_type": "code",
   "execution_count": 24,
   "id": "606ce08d",
   "metadata": {},
   "outputs": [],
   "source": [
    "data = load_iris()['data']"
   ]
  },
  {
   "cell_type": "code",
   "execution_count": 94,
   "id": "cfeec941",
   "metadata": {},
   "outputs": [],
   "source": [
    "model = KMeansClusterer()\n",
    "model.fit(data)"
   ]
  },
  {
   "cell_type": "code",
   "execution_count": 95,
   "id": "c708b75c",
   "metadata": {},
   "outputs": [],
   "source": [
    "model.train(3, max_iters = 30)"
   ]
  },
  {
   "cell_type": "code",
   "execution_count": 96,
   "id": "cdfa17de",
   "metadata": {},
   "outputs": [
    {
     "data": {
      "text/plain": [
       "array([[5.88360656, 2.74098361, 4.38852459, 1.43442623],\n",
       "       [5.006     , 3.428     , 1.462     , 0.246     ],\n",
       "       [6.85384615, 3.07692308, 5.71538462, 2.05384615]])"
      ]
     },
     "execution_count": 96,
     "metadata": {},
     "output_type": "execute_result"
    }
   ],
   "source": [
    "model.centroids"
   ]
  },
  {
   "cell_type": "code",
   "execution_count": 101,
   "id": "37c9f386",
   "metadata": {},
   "outputs": [
    {
     "data": {
      "image/png": "[encoded data removed]",
      "text/plain": [
       "<Figure size 432x288 with 1 Axes>"
      ]
     },
     "metadata": {
      "needs_background": "light"
     },
     "output_type": "display_data"
    }
   ],
   "source": [
    "model.plot()"
   ]
  },
  {
   "cell_type": "code",
   "execution_count": null,
   "id": "d029c072",
   "metadata": {},
   "outputs": [],
   "source": []
  }
 ],
 "metadata": {
  "kernelspec": {
   "display_name": "Python 3",
   "language": "python",
   "name": "python3"
  },
  "language_info": {
   "codemirror_mode": {
    "name": "ipython",
    "version": 3
   },
   "file_extension": ".py",
   "mimetype": "text/x-python",
   "name": "python",
   "nbconvert_exporter": "python",
   "pygments_lexer": "ipython3",
   "version": "3.6.4"
  }
 },
 "nbformat": 4,
 "nbformat_minor": 5
}
