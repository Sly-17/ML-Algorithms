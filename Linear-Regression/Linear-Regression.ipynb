{
 "cells": [
  {
   "cell_type": "code",
   "execution_count": 2,
   "id": "96e73aa9",
   "metadata": {},
   "outputs": [],
   "source": [
    "import numpy as np\n",
    "import pandas as pd\n",
    "import matplotlib.pyplot as plt\n",
    "import random"
   ]
  },
  {
   "cell_type": "code",
   "execution_count": 125,
   "id": "82c501cd",
   "metadata": {},
   "outputs": [],
   "source": [
    "class LinearRegressionModel:\n",
    "    def __init__(self):\n",
    "        pass\n",
    "    \n",
    "    def fit(self, X, y):\n",
    "        self.X = X;\n",
    "        self.y = y;\n",
    "        \n",
    "        # Matrix Form of linear regression\n",
    "        self.X = np.vstack((np.ones(X.shape[0]), X)).T\n",
    "        self.y = self.y.T\n",
    "        \n",
    "        \n",
    "        X_T_X = self.X.T @ self.X\n",
    "        X_T_X_inv = np.linalg.inv(X_T_X)\n",
    "        X_T_Y = self.X.T @ self.y\n",
    "        \n",
    "        self.coefficients = X_T_X_inv @ X_T_Y\n",
    "        return self.coefficients\n",
    "    \n",
    "    def predict(self, x):\n",
    "        return np.dot(x, self.coefficients[1:]) + self.coefficients[0];\n",
    "    \n",
    "    def plot(self, points = 10):\n",
    "        min_val = min(self.X[:, 1])\n",
    "        max_val = max(self.X[:, 1])\n",
    "        X = np.arange(min_val, max_val, points/(max_val - min_val))\n",
    "        plt.plot(X, [self.predict(x) for x in X]);\n",
    "        plt.scatter(self.X[:, 1].T, self.y.T)\n",
    "        plt.show()\n",
    "        \n",
    "        "
   ]
  },
  {
   "cell_type": "code",
   "execution_count": 131,
   "id": "ff50d4d0",
   "metadata": {},
   "outputs": [],
   "source": [
    "df = pd.read_csv('./data.csv')"
   ]
  },
  {
   "cell_type": "code",
   "execution_count": 132,
   "id": "a7de4547",
   "metadata": {},
   "outputs": [],
   "source": [
    "data = df.to_numpy()"
   ]
  },
  {
   "cell_type": "code",
   "execution_count": 133,
   "id": "1849f5b5",
   "metadata": {},
   "outputs": [],
   "source": [
    "X = data[:, 0]\n",
    "y = data[:, 1]"
   ]
  },
  {
   "cell_type": "code",
   "execution_count": 134,
   "id": "e70f20b1",
   "metadata": {},
   "outputs": [
    {
     "data": {
      "text/plain": [
       "(13,)"
      ]
     },
     "execution_count": 134,
     "metadata": {},
     "output_type": "execute_result"
    }
   ],
   "source": [
    "X.shape"
   ]
  },
  {
   "cell_type": "code",
   "execution_count": 135,
   "id": "6f8087e2",
   "metadata": {},
   "outputs": [
    {
     "data": {
      "text/plain": [
       "array([103.10596026,  -1.75128771])"
      ]
     },
     "execution_count": 135,
     "metadata": {},
     "output_type": "execute_result"
    }
   ],
   "source": [
    "model = LinearRegressionModel()\n",
    "regression_coefficients = model.fit(X, y)\n",
    "regression_coefficients"
   ]
  },
  {
   "cell_type": "code",
   "execution_count": 136,
   "id": "f632e557",
   "metadata": {},
   "outputs": [
    {
     "data": {
      "text/plain": [
       "array([103.10596026,  -1.75128771])"
      ]
     },
     "execution_count": 136,
     "metadata": {},
     "output_type": "execute_result"
    }
   ],
   "source": [
    "model.coefficients"
   ]
  },
  {
   "cell_type": "code",
   "execution_count": 137,
   "id": "e481a5a0",
   "metadata": {},
   "outputs": [
    {
     "data": {
      "text/plain": [
       "(array([ 5,  7,  8,  7,  2, 17,  2,  9,  4, 11, 12,  9,  6], dtype=int64),\n",
       " array([ 99,  86,  87,  88, 111,  86, 103,  87,  94,  78,  77,  85,  86],\n",
       "       dtype=int64))"
      ]
     },
     "execution_count": 137,
     "metadata": {},
     "output_type": "execute_result"
    }
   ],
   "source": [
    "X,y"
   ]
  },
  {
   "cell_type": "code",
   "execution_count": 138,
   "id": "fbbf7eb5",
   "metadata": {},
   "outputs": [
    {
     "data": {
      "text/plain": [
       "array([83.84179544])"
      ]
     },
     "execution_count": 138,
     "metadata": {},
     "output_type": "execute_result"
    }
   ],
   "source": [
    "model.predict(11)"
   ]
  },
  {
   "cell_type": "code",
   "execution_count": 139,
   "id": "2669bb84",
   "metadata": {},
   "outputs": [
    {
     "data": {
      "image/png": "[encoded data removed]",
      "text/plain": [
       "<Figure size 432x288 with 1 Axes>"
      ]
     },
     "metadata": {
      "needs_background": "light"
     },
     "output_type": "display_data"
    }
   ],
   "source": [
    "model.plot()"
   ]
  },
  {
   "cell_type": "code",
   "execution_count": null,
   "id": "10ad1795",
   "metadata": {},
   "outputs": [],
   "source": []
  }
 ],
 "metadata": {
  "kernelspec": {
   "display_name": "Python 3",
   "language": "python",
   "name": "python3"
  },
  "language_info": {
   "codemirror_mode": {
    "name": "ipython",
    "version": 3
   },
   "file_extension": ".py",
   "mimetype": "text/x-python",
   "name": "python",
   "nbconvert_exporter": "python",
   "pygments_lexer": "ipython3",
   "version": "3.6.4"
  }
 },
 "nbformat": 4,
 "nbformat_minor": 5
}
