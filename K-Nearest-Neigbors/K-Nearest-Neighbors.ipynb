{
 "cells": [
  {
   "cell_type": "code",
   "execution_count": 107,
   "id": "94cddbb7",
   "metadata": {},
   "outputs": [],
   "source": [
    "import numpy as np\n",
    "import pandas as pd\n",
    "import matplotlib.pyplot as plt\n",
    "import random\n",
    "import math\n",
    "from sklearn.datasets import load_iris\n",
    "from sklearn.model_selection import train_test_split"
   ]
  },
  {
   "cell_type": "code",
   "execution_count": 108,
   "id": "e60a7531",
   "metadata": {},
   "outputs": [],
   "source": [
    "class Distance:\n",
    "    \n",
    "    @staticmethod\n",
    "    def Minkowski(x, y, p = 2):\n",
    "        return np.sum((x-y)**p)**(1/p)\n",
    "    \n",
    "    @staticmethod\n",
    "    def Euclidean(x, y):\n",
    "        return math.sqrt(np.sum((x-y)**2))\n",
    "    \n",
    "    @staticmethod\n",
    "    def Manhattan(x, y):\n",
    "        return np.sum(np.abs(x-y))\n",
    "    \n",
    "    @staticmethod\n",
    "    def Chebyshev(x, y):\n",
    "        return max(np.abs(x-y))"
   ]
  },
  {
   "cell_type": "code",
   "execution_count": 109,
   "id": "b3a5ce2d",
   "metadata": {},
   "outputs": [],
   "source": [
    "class KNN:\n",
    "    def __init__(self):\n",
    "        pass\n",
    "    \n",
    "    def fit(self, X, y, k = None):\n",
    "        self.X = X\n",
    "        self.y = y\n",
    "        self.k = self.X.shape[0]//4 if k is None else k\n",
    "        \n",
    "    def predict(self, x_hat, distance_fn = Distance.Euclidean):\n",
    "        nearest = np.argsort([distance_fn(x_hat, x) for x in self.X])[:self.k]\n",
    "        classes, counts = np.unique(self.y[nearest], return_counts = True)\n",
    "        \n",
    "        return classes[np.argmax(counts)]\n",
    "            "
   ]
  },
  {
   "cell_type": "code",
   "execution_count": 140,
   "id": "f473bf6f",
   "metadata": {},
   "outputs": [],
   "source": [
    "iris = load_iris()\n",
    "\n",
    "X = iris['data']\n",
    "y = iris['target']\n"
   ]
  },
  {
   "cell_type": "code",
   "execution_count": 141,
   "id": "4ef421f2",
   "metadata": {},
   "outputs": [],
   "source": [
    "x_train, x_test, y_train, y_test = train_test_split(X, y, train_size = 0.8, test_size = 0.2, shuffle = True, random_state = 46)"
   ]
  },
  {
   "cell_type": "code",
   "execution_count": 142,
   "id": "b434cf51",
   "metadata": {},
   "outputs": [
    {
     "data": {
      "text/plain": [
       "(array([0, 1, 2]), array([38, 41, 41], dtype=int64))"
      ]
     },
     "execution_count": 142,
     "metadata": {},
     "output_type": "execute_result"
    }
   ],
   "source": [
    "np.unique(y_train, return_counts = True)"
   ]
  },
  {
   "cell_type": "code",
   "execution_count": 143,
   "id": "5ac3a7bc",
   "metadata": {},
   "outputs": [],
   "source": [
    "model = KNN()"
   ]
  },
  {
   "cell_type": "code",
   "execution_count": 144,
   "id": "01d2f06a",
   "metadata": {},
   "outputs": [],
   "source": [
    "model.fit(x_train, y_train, k = 15)"
   ]
  },
  {
   "cell_type": "code",
   "execution_count": 145,
   "id": "6f851836",
   "metadata": {},
   "outputs": [
    {
     "name": "stdout",
     "output_type": "stream",
     "text": [
      "Accuracy : 0.933\n"
     ]
    }
   ],
   "source": [
    "n_test = x_test.shape[0]\n",
    "accuracy = 0\n",
    "\n",
    "for i in range(n_test):\n",
    "    y_hat = model.predict(x_test[i], distance_fn = Distance.Euclidean)\n",
    "    accuracy += (y_hat == y_test[i])/n_test    \n",
    "    \n",
    "accuracy = round(accuracy, 3)\n",
    "print(f'Accuracy : {accuracy}')"
   ]
  },
  {
   "cell_type": "code",
   "execution_count": 146,
   "id": "f52d5444",
   "metadata": {},
   "outputs": [
    {
     "data": {
      "text/plain": [
       "0"
      ]
     },
     "execution_count": 146,
     "metadata": {},
     "output_type": "execute_result"
    }
   ],
   "source": [
    "y_ = [5.2, 3.1, 1.4, 0.2]\n",
    "model.predict(y_, distance_fn = Distance.Euclidean)"
   ]
  },
  {
   "cell_type": "code",
   "execution_count": null,
   "id": "d8cb4038",
   "metadata": {},
   "outputs": [],
   "source": []
  }
 ],
 "metadata": {
  "kernelspec": {
   "display_name": "Python 3",
   "language": "python",
   "name": "python3"
  },
  "language_info": {
   "codemirror_mode": {
    "name": "ipython",
    "version": 3
   },
   "file_extension": ".py",
   "mimetype": "text/x-python",
   "name": "python",
   "nbconvert_exporter": "python",
   "pygments_lexer": "ipython3",
   "version": "3.6.4"
  }
 },
 "nbformat": 4,
 "nbformat_minor": 5
}
