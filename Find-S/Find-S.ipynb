{
 "cells": [
  {
   "cell_type": "code",
   "execution_count": 1,
   "id": "a0013f18",
   "metadata": {},
   "outputs": [],
   "source": [
    "import numpy as np\n",
    "import pandas as pd"
   ]
  },
  {
   "cell_type": "code",
   "execution_count": 15,
   "id": "850da742",
   "metadata": {},
   "outputs": [],
   "source": [
    "def findS(data, positive_label = '1'):\n",
    "    examples = data[:, :-1]\n",
    "    labels = data[:, -1]\n",
    "\n",
    "    n_features = examples.shape[1]\n",
    "    \n",
    "    hypothesis = ['0'] * n_features\n",
    "    \n",
    "    for example, label in zip(examples, labels):\n",
    "        if label != positive_label:\n",
    "            continue\n",
    "        \n",
    "        for ind, attribute in enumerate(example):\n",
    "            if hypothesis[ind] == '0':\n",
    "                hypothesis[ind] = attribute\n",
    "            elif hypothesis[ind] != attribute:\n",
    "                hypothesis[ind] = '?'\n",
    "                \n",
    "    return hypothesis\n",
    "            "
   ]
  },
  {
   "cell_type": "code",
   "execution_count": 16,
   "id": "04e41ede",
   "metadata": {},
   "outputs": [],
   "source": [
    "data = np.array([['Morning', 'Sunny', 'Warm', 'Yes', 'Mild', 'Strong', 'Yes'],\n",
    "['Evening', 'Rainy', 'Cold', 'No', 'Mild', 'Normal', 'No'],\n",
    "['Morning', 'Sunny', 'Moderate', 'Yes', 'Normal', 'Normal', 'Yes'],\n",
    "['Evening', 'Sunny', 'Cold', 'Yes', 'High', 'Strong', 'Yes']])"
   ]
  },
  {
   "cell_type": "code",
   "execution_count": 17,
   "id": "58d1c76e",
   "metadata": {},
   "outputs": [
    {
     "data": {
      "text/plain": [
       "['?', 'Sunny', '?', 'Yes', '?', '?']"
      ]
     },
     "execution_count": 17,
     "metadata": {},
     "output_type": "execute_result"
    }
   ],
   "source": [
    "findS(data, positive_label = 'Yes')"
   ]
  },
  {
   "cell_type": "code",
   "execution_count": null,
   "id": "64a4ef3d",
   "metadata": {},
   "outputs": [],
   "source": []
  }
 ],
 "metadata": {
  "kernelspec": {
   "display_name": "Python 3",
   "language": "python",
   "name": "python3"
  },
  "language_info": {
   "codemirror_mode": {
    "name": "ipython",
    "version": 3
   },
   "file_extension": ".py",
   "mimetype": "text/x-python",
   "name": "python",
   "nbconvert_exporter": "python",
   "pygments_lexer": "ipython3",
   "version": "3.6.4"
  }
 },
 "nbformat": 4,
 "nbformat_minor": 5
}
